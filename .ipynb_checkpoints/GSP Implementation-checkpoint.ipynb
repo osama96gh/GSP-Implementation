{
 "cells": [
  {
   "cell_type": "markdown",
   "metadata": {},
   "source": [
    "# Data Mining HomeWork\n",
    "## GSP implementation \n",
    "### *by:* osama ghazal"
   ]
  },
  {
   "cell_type": "markdown",
   "metadata": {},
   "source": [
    "# Read and Clean Dataset"
   ]
  },
  {
   "cell_type": "code",
   "execution_count": 1,
   "metadata": {},
   "outputs": [],
   "source": [
    "import pandas as pd\n",
    "import numpy as  np"
   ]
  },
  {
   "cell_type": "code",
   "execution_count": 2,
   "metadata": {},
   "outputs": [],
   "source": [
    "df = pd.read_table('paths_finished.tsv',sep='\\t',names=[\"hashedIpAddress\",\"timestamp\",\"durationInSec\",\"path\",\"rating\"])"
   ]
  },
  {
   "cell_type": "code",
   "execution_count": 3,
   "metadata": {},
   "outputs": [],
   "source": [
    "df_paths = df.path"
   ]
  },
  {
   "cell_type": "code",
   "execution_count": 4,
   "metadata": {},
   "outputs": [
    {
     "data": {
      "text/plain": [
       "(51333,)"
      ]
     },
     "execution_count": 4,
     "metadata": {},
     "output_type": "execute_result"
    }
   ],
   "source": [
    "df_paths.shape"
   ]
  },
  {
   "cell_type": "code",
   "execution_count": 5,
   "metadata": {},
   "outputs": [],
   "source": [
    "df_paths.dropna(axis=0,inplace=True)"
   ]
  },
  {
   "cell_type": "code",
   "execution_count": 6,
   "metadata": {},
   "outputs": [
    {
     "data": {
      "text/plain": [
       "(51318,)"
      ]
     },
     "execution_count": 6,
     "metadata": {},
     "output_type": "execute_result"
    }
   ],
   "source": [
    "df_paths.shape"
   ]
  },
  {
   "cell_type": "code",
   "execution_count": 7,
   "metadata": {},
   "outputs": [
    {
     "data": {
      "text/plain": [
       "15    14th_century;15th_century;16th_century;Pacific...\n",
       "16    14th_century;Europe;Africa;Atlantic_slave_trad...\n",
       "17    14th_century;Niger;Nigeria;British_Empire;Slav...\n",
       "18       14th_century;Renaissance;Ancient_Greece;Greece\n",
       "19    14th_century;Italy;Roman_Catholic_Church;HIV;R...\n",
       "Name: path, dtype: object"
      ]
     },
     "execution_count": 7,
     "metadata": {},
     "output_type": "execute_result"
    }
   ],
   "source": [
    "df_paths.head()"
   ]
  },
  {
   "cell_type": "code",
   "execution_count": 57,
   "metadata": {
    "scrolled": true
   },
   "outputs": [
    {
     "data": {
      "text/plain": [
       "[['14th_century'],\n",
       " ['Renaissance'],\n",
       " ['Leonardo_da_Vinci'],\n",
       " ['Water'],\n",
       " ['Rain'],\n",
       " ['Cloud'],\n",
       " ['<'],\n",
       " ['<'],\n",
       " ['Rainbow']]"
      ]
     },
     "execution_count": 57,
     "metadata": {},
     "output_type": "execute_result"
    }
   ],
   "source": [
    "paths = list(df_paths)\n",
    "paths = [[[e] for e in p.split(';')]  for p  in paths]\n",
    "paths[14]"
   ]
  },
  {
   "cell_type": "markdown",
   "metadata": {},
   "source": [
    "### Delete the \"<\" symbols"
   ]
  },
  {
   "cell_type": "code",
   "execution_count": 58,
   "metadata": {},
   "outputs": [
    {
     "data": {
      "text/plain": [
       "[['14th_century'],\n",
       " ['Renaissance'],\n",
       " ['Leonardo_da_Vinci'],\n",
       " ['Water'],\n",
       " ['Rain'],\n",
       " ['Cloud'],\n",
       " ['Rainbow']]"
      ]
     },
     "execution_count": 58,
     "metadata": {},
     "output_type": "execute_result"
    }
   ],
   "source": [
    "for path in paths:\n",
    "    while [\"<\"] in path:\n",
    "        path.remove([\"<\"])\n",
    "    \n",
    "paths[14]"
   ]
  },
  {
   "cell_type": "code",
   "execution_count": 59,
   "metadata": {
    "scrolled": true
   },
   "outputs": [
    {
     "data": {
      "text/plain": [
       "51318"
      ]
     },
     "execution_count": 59,
     "metadata": {},
     "output_type": "execute_result"
    }
   ],
   "source": [
    "len(paths)"
   ]
  },
  {
   "cell_type": "code",
   "execution_count": 72,
   "metadata": {
    "scrolled": true
   },
   "outputs": [
    {
     "name": "stdout",
     "output_type": "stream",
     "text": [
      "[[['14th_century'], ['15th_century'], ['16th_century'], ['Pacific_Ocean'], ['Atlantic_Ocean'], ['Accra'], ['Africa'], ['Atlantic_slave_trade'], ['African_slave_trade']], [['14th_century'], ['Europe'], ['Africa'], ['Atlantic_slave_trade'], ['African_slave_trade']], [['14th_century'], ['Niger'], ['Nigeria'], ['British_Empire'], ['Slavery'], ['Africa'], ['Atlantic_slave_trade'], ['African_slave_trade']], [['14th_century'], ['Renaissance'], ['Ancient_Greece'], ['Greece']], [['14th_century'], ['Italy'], ['Roman_Catholic_Church'], ['HIV'], ['Ronald_Reagan'], ['President_of_the_United_States'], ['John_F._Kennedy']]]\n"
     ]
    }
   ],
   "source": [
    "sup_paths =paths[:5]\n",
    "print(sup_paths)"
   ]
  },
  {
   "cell_type": "markdown",
   "metadata": {},
   "source": [
    "## dummy dataset for test during devlopment"
   ]
  },
  {
   "cell_type": "code",
   "execution_count": 83,
   "metadata": {},
   "outputs": [
    {
     "name": "stdout",
     "output_type": "stream",
     "text": [
      "[[['a'], ['b'], ['f', 'g'], ['c'], ['d']], [['b'], ['g'], ['d']], [['b'], ['f'], ['g'], ['a', 'b']], [['f'], ['a', 'b'], ['c'], ['d']], [['a'], ['b', 'c'], ['g'], ['f'], ['d', 'e']]]\n"
     ]
    }
   ],
   "source": [
    "dumy_data=[\n",
    "[[\"a\"], [\"b\"], [\"f\", \"g\"], [\"c\"], [\"d\"]],\n",
    "[[\"b\"], [\"g\"], [\"d\"]],\n",
    "[[\"b\"], [\"f\"], [\"g\"], [\"a\",\"b\"]],\n",
    "[[\"f\"], [\"a\",\"b\"], [\"c\"], [\"d\"]],\n",
    "[[\"a\"], [\"b\",\"c\"], [\"g\"], [\"f\"],[\"d\",\"e\"]]\n",
    "]\n",
    "print(dumy_data)"
   ]
  },
  {
   "cell_type": "markdown",
   "metadata": {},
   "source": [
    "# Implement GSP Algorithm "
   ]
  },
  {
   "cell_type": "markdown",
   "metadata": {},
   "source": [
    "### get level 1 candidate"
   ]
  },
  {
   "cell_type": "code",
   "execution_count": 98,
   "metadata": {},
   "outputs": [],
   "source": [
    "def get_l1_candidate(data):\n",
    "    candidates= set([d for transaction in data for e in transaction for d in e])\n",
    "    return [[c] for c in candidates]\n"
   ]
  },
  {
   "cell_type": "code",
   "execution_count": 103,
   "metadata": {
    "scrolled": true
   },
   "outputs": [
    {
     "name": "stdout",
     "output_type": "stream",
     "text": [
      "[['c'], ['b'], ['a'], ['f'], ['e'], ['d'], ['g']]\n"
     ]
    }
   ],
   "source": [
    "l1_candidate = get_l1_candidate(dumy_data)\n",
    "print(l1_candidate)"
   ]
  },
  {
   "cell_type": "markdown",
   "metadata": {},
   "source": [
    "### calculate support for candidate patterns"
   ]
  },
  {
   "cell_type": "code",
   "execution_count": 108,
   "metadata": {},
   "outputs": [],
   "source": [
    "def is_exist_in_transaction(trans,element):\n",
    "    for t in trans:\n",
    "        if t == element:\n",
    "            return True\n",
    "    return False\n",
    "\n",
    "def calculate_support(data,candidate):\n",
    "    patterns = [[e,0] for e in candidate]\n",
    "    \n",
    "    for pat in patterns:\n",
    "        for sequence in data:\n",
    "            index =0\n",
    "            for trans in sequence:\n",
    "                if is_exist_in_transaction(trans,pat[0][index]):\n",
    "                    index = index+1\n",
    "                    if (index) == len(pat[0]):\n",
    "                        pat[1]=pat[1]+1\n",
    "                        break\n",
    "                    \n",
    "          \n",
    "    return patterns"
   ]
  },
  {
   "cell_type": "code",
   "execution_count": 110,
   "metadata": {
    "scrolled": true
   },
   "outputs": [
    {
     "name": "stdout",
     "output_type": "stream",
     "text": [
      "[[['c'], 3], [['b'], 5], [['a'], 4], [['f'], 4], [['e'], 1], [['d'], 4], [['g'], 4]]\n"
     ]
    }
   ],
   "source": [
    "l1_patterns =calculate_support(dumy_data,l1_candidate)\n",
    "print(l1_patterns)"
   ]
  },
  {
   "cell_type": "markdown",
   "metadata": {},
   "source": [
    "### filter candidate that don't exceed the support threshold"
   ]
  },
  {
   "cell_type": "code",
   "execution_count": 111,
   "metadata": {},
   "outputs": [],
   "source": [
    "def filter_by_subbort(patterns,min_sup=2):\n",
    "    return  [p for p in patterns if p[1]>=min_sup]\n"
   ]
  },
  {
   "cell_type": "code",
   "execution_count": 112,
   "metadata": {},
   "outputs": [
    {
     "name": "stdout",
     "output_type": "stream",
     "text": [
      "[[['c'], 3], [['b'], 5], [['a'], 4], [['f'], 4], [['d'], 4], [['g'], 4]]\n"
     ]
    }
   ],
   "source": [
    "l1_patterns= filter_by_subbort(l1_patterns,min_sup=2)\n",
    "print(l1_patterns)"
   ]
  },
  {
   "cell_type": "markdown",
   "metadata": {},
   "source": [
    "### generate level 2 candidate"
   ]
  },
  {
   "cell_type": "code",
   "execution_count": 113,
   "metadata": {},
   "outputs": [],
   "source": [
    "def generat_l2_candidate(l1_patterns):\n",
    "    l2_candidate=[]\n",
    "    for p1 in l1_patterns:\n",
    "        for p2 in l1_patterns:\n",
    "            l2_candidate.append(p1[0]+p2[0])\n",
    "    return l2_candidate"
   ]
  },
  {
   "cell_type": "code",
   "execution_count": 115,
   "metadata": {
    "scrolled": false
   },
   "outputs": [
    {
     "name": "stdout",
     "output_type": "stream",
     "text": [
      "[['c', 'c'], ['c', 'b'], ['c', 'a'], ['c', 'f'], ['c', 'd'], ['c', 'g'], ['b', 'c'], ['b', 'b'], ['b', 'a'], ['b', 'f'], ['b', 'd'], ['b', 'g'], ['a', 'c'], ['a', 'b'], ['a', 'a'], ['a', 'f'], ['a', 'd'], ['a', 'g'], ['f', 'c'], ['f', 'b'], ['f', 'a'], ['f', 'f'], ['f', 'd'], ['f', 'g'], ['d', 'c'], ['d', 'b'], ['d', 'a'], ['d', 'f'], ['d', 'd'], ['d', 'g'], ['g', 'c'], ['g', 'b'], ['g', 'a'], ['g', 'f'], ['g', 'd'], ['g', 'g']]\n"
     ]
    }
   ],
   "source": [
    "l2_candidate =generat_l2_candidate(l1_patterns)\n",
    "print (l2_candidate)"
   ]
  },
  {
   "cell_type": "markdown",
   "metadata": {},
   "source": [
    "### calculate support again using the same function decleard above"
   ]
  },
  {
   "cell_type": "code",
   "execution_count": 116,
   "metadata": {
    "scrolled": false
   },
   "outputs": [
    {
     "name": "stdout",
     "output_type": "stream",
     "text": [
      "[[['c', 'c'], 0], [['c', 'b'], 0], [['c', 'a'], 0], [['c', 'f'], 1], [['c', 'd'], 3], [['c', 'g'], 1], [['b', 'c'], 2], [['b', 'b'], 1], [['b', 'a'], 1], [['b', 'f'], 3], [['b', 'd'], 4], [['b', 'g'], 4], [['a', 'c'], 3], [['a', 'b'], 2], [['a', 'a'], 0], [['a', 'f'], 2], [['a', 'd'], 3], [['a', 'g'], 2], [['f', 'c'], 2], [['f', 'b'], 2], [['f', 'a'], 2], [['f', 'f'], 0], [['f', 'd'], 3], [['f', 'g'], 1], [['d', 'c'], 0], [['d', 'b'], 0], [['d', 'a'], 0], [['d', 'f'], 0], [['d', 'd'], 0], [['d', 'g'], 0], [['g', 'c'], 1], [['g', 'b'], 1], [['g', 'a'], 1], [['g', 'f'], 1], [['g', 'd'], 3], [['g', 'g'], 0]]\n"
     ]
    }
   ],
   "source": [
    "l2_patterns =calculate_support(dumy_data,l2_candidate)\n",
    "print(l2_patterns)"
   ]
  },
  {
   "cell_type": "markdown",
   "metadata": {},
   "source": [
    "### filter again ..."
   ]
  },
  {
   "cell_type": "code",
   "execution_count": 117,
   "metadata": {
    "scrolled": true
   },
   "outputs": [
    {
     "name": "stdout",
     "output_type": "stream",
     "text": [
      "[[['c', 'd'], 3], [['b', 'c'], 2], [['b', 'f'], 3], [['b', 'd'], 4], [['b', 'g'], 4], [['a', 'c'], 3], [['a', 'b'], 2], [['a', 'f'], 2], [['a', 'd'], 3], [['a', 'g'], 2], [['f', 'c'], 2], [['f', 'b'], 2], [['f', 'a'], 2], [['f', 'd'], 3], [['g', 'd'], 3]]\n"
     ]
    }
   ],
   "source": [
    "l2_patterns=filter_by_subbort(l2_patterns,min_sup=2)\n",
    "print(l2_patterns)"
   ]
  },
  {
   "cell_type": "markdown",
   "metadata": {},
   "source": [
    "### Declear the get candidate function for generate all type of candidate above the level 2"
   ]
  },
  {
   "cell_type": "code",
   "execution_count": 138,
   "metadata": {},
   "outputs": [],
   "source": [
    "def delete_at(str,idx):\n",
    "    return str[:idx]+str[idx+1:]        \n",
    "\n",
    "def get_candidates(patterns):\n",
    "    candidate = []\n",
    "    for pat1 in patterns:\n",
    "        for pat2 in patterns:\n",
    "             if pat1[0][1:]==pat2[0][:-1]:\n",
    "                candidate.append([pat1[0][0]]+pat2[0])\n",
    "        \n",
    "    return candidate"
   ]
  },
  {
   "cell_type": "markdown",
   "metadata": {},
   "source": [
    "### prune candidate thet not make sense to have as candidate\n",
    "delete candidates that have as part from it sub pattern that not exist in the candidate from the previous level of candidates\n",
    "\n",
    "### for example:\n",
    "candidate level 2:  <br />\n",
    "abc bcd abd <br />\n",
    "candidate level 3: <br />\n",
    "__abcd__ <br />\n",
    "we can see that candidate **abcd** should be prune becase sub pattern **acd** not exist in the candidate from the last level"
   ]
  },
  {
   "cell_type": "code",
   "execution_count": 140,
   "metadata": {},
   "outputs": [],
   "source": [
    "def is_to_prune(l2_patterns,l3_candidate):\n",
    "    for idx in range(1,len(l3_candidate)-1):\n",
    "        sub_pattern = delete_at(l3_candidate,idx)\n",
    "        is_sub_pattern_exist =False\n",
    "        for p in l2_patterns:\n",
    "            if sub_pattern == p[0]:\n",
    "                is_sub_pattern_exist = True\n",
    "                break\n",
    "        if not is_sub_pattern_exist:\n",
    "            return False\n",
    "    return True\n",
    "\n",
    "def prune_candidate(candidate):\n",
    "    return [c for c in candidate if is_to_prune(l2_patterns,c) ]\n"
   ]
  },
  {
   "cell_type": "code",
   "execution_count": 141,
   "metadata": {
    "scrolled": true
   },
   "outputs": [
    {
     "name": "stdout",
     "output_type": "stream",
     "text": [
      "[['b', 'c', 'd'], ['b', 'f', 'c'], ['b', 'f', 'b'], ['b', 'f', 'a'], ['b', 'f', 'd'], ['b', 'g', 'd'], ['a', 'c', 'd'], ['a', 'b', 'c'], ['a', 'b', 'f'], ['a', 'b', 'd'], ['a', 'b', 'g'], ['a', 'f', 'c'], ['a', 'f', 'b'], ['a', 'f', 'a'], ['a', 'f', 'd'], ['a', 'g', 'd'], ['f', 'c', 'd'], ['f', 'b', 'c'], ['f', 'b', 'f'], ['f', 'b', 'd'], ['f', 'b', 'g'], ['f', 'a', 'c'], ['f', 'a', 'b'], ['f', 'a', 'f'], ['f', 'a', 'd'], ['f', 'a', 'g']]\n"
     ]
    }
   ],
   "source": [
    "l3_candidate =get_candidates(l2_patterns)\n",
    "print(l3_candidate)"
   ]
  },
  {
   "cell_type": "code",
   "execution_count": 142,
   "metadata": {
    "scrolled": false
   },
   "outputs": [
    {
     "name": "stdout",
     "output_type": "stream",
     "text": [
      "[['b', 'c', 'd'], ['b', 'f', 'c'], ['b', 'f', 'd'], ['b', 'g', 'd'], ['a', 'c', 'd'], ['a', 'b', 'c'], ['a', 'b', 'f'], ['a', 'b', 'd'], ['a', 'b', 'g'], ['a', 'f', 'c'], ['a', 'f', 'b'], ['a', 'f', 'd'], ['a', 'g', 'd'], ['f', 'c', 'd'], ['f', 'b', 'c'], ['f', 'b', 'd'], ['f', 'a', 'c'], ['f', 'a', 'b'], ['f', 'a', 'd']]\n"
     ]
    }
   ],
   "source": [
    "l3_candidate = prune_candidate(l3_candidate)\n",
    "print(l3_candidate)"
   ]
  },
  {
   "cell_type": "markdown",
   "metadata": {},
   "source": [
    "# But all of that togather:\n",
    "\n",
    "combine all the last function that we have implement to achive the **GSP** algorithm"
   ]
  },
  {
   "cell_type": "code",
   "execution_count": 151,
   "metadata": {},
   "outputs": [],
   "source": [
    "def gsp_helper(data,patterns_past,level=3,min_sup=2):\n",
    "    candidate = get_candidates(patterns_past)\n",
    "    pattern = calculate_support(data,candidate)\n",
    "    pattern = filter_by_subbort(pattern)\n",
    "    if len(pattern) > 0:\n",
    "        print()\n",
    "        print(\"level \"+str(level)+\" patterns:\")\n",
    "        print()\n",
    "        print(pattern)\n",
    "        gsp_helper(data,pattern,level+1,min_sup)\n",
    "    else:\n",
    "        print()\n",
    "        print(\"done, All Patterns extracted\")"
   ]
  },
  {
   "cell_type": "code",
   "execution_count": 152,
   "metadata": {},
   "outputs": [],
   "source": [
    "def gsp (data,min_sup=2):\n",
    "    l1_candidate =get_l1_candidate(data)\n",
    "    l1_patterns = calculate_support(data,l1_candidate)\n",
    "    l1_patterns=filter_by_subbort(l1_patterns,min_sup)\n",
    "    print()\n",
    "    print(\"level 1 patterns:\")\n",
    "    print()\n",
    "    print(l1_patterns)\n",
    "    l2_candidate=generat_l2_candidate(l1_patterns)\n",
    "    l2_patterns = calculate_support(data,l2_candidate)\n",
    "    l2_patterns=filter_by_subbort(l2_patterns,min_sup)\n",
    "    print()\n",
    "    print(\"level 2 patterns:\")\n",
    "    print()\n",
    "    print(l2_patterns)\n",
    "    gsp_helper(data,l2_patterns,min_sup=min_sup)\n",
    "    "
   ]
  },
  {
   "cell_type": "markdown",
   "metadata": {},
   "source": [
    "## test the algorithm on the dummy data:"
   ]
  },
  {
   "cell_type": "code",
   "execution_count": 165,
   "metadata": {
    "scrolled": true
   },
   "outputs": [
    {
     "name": "stdout",
     "output_type": "stream",
     "text": [
      "[[['a'], ['b'], ['f', 'g'], ['c'], ['d']], [['b'], ['g'], ['d']], [['b'], ['f'], ['g'], ['a', 'b']], [['f'], ['a', 'b'], ['c'], ['d']], [['a'], ['b', 'c'], ['g'], ['f'], ['d', 'e']]]\n",
      "\n",
      "level 1 patterns:\n",
      "\n",
      "[[['c'], 3], [['b'], 5], [['a'], 4], [['f'], 4], [['d'], 4], [['g'], 4]]\n",
      "\n",
      "level 2 patterns:\n",
      "\n",
      "[[['c', 'd'], 3], [['b', 'c'], 2], [['b', 'f'], 3], [['b', 'd'], 4], [['b', 'g'], 4], [['a', 'c'], 3], [['a', 'b'], 2], [['a', 'f'], 2], [['a', 'd'], 3], [['a', 'g'], 2], [['f', 'c'], 2], [['f', 'b'], 2], [['f', 'a'], 2], [['f', 'd'], 3], [['g', 'd'], 3]]\n",
      "\n",
      "level 3 patterns:\n",
      "\n",
      "[[['b', 'c', 'd'], 2], [['b', 'f', 'd'], 2], [['b', 'g', 'd'], 3], [['a', 'c', 'd'], 3], [['a', 'b', 'f'], 2], [['a', 'b', 'd'], 2], [['a', 'b', 'g'], 2], [['a', 'f', 'd'], 2], [['a', 'g', 'd'], 2], [['f', 'c', 'd'], 2]]\n",
      "\n",
      "level 4 patterns:\n",
      "\n",
      "[[['a', 'b', 'f', 'd'], 2], [['a', 'b', 'g', 'd'], 2]]\n",
      "\n",
      "done, All Patterns extracted\n"
     ]
    }
   ],
   "source": [
    "print(dumy_data)\n",
    "gsp(dumy_data,min_sup=2)"
   ]
  },
  {
   "cell_type": "markdown",
   "metadata": {},
   "source": [
    "## test the algorithm on the paths data:"
   ]
  },
  {
   "cell_type": "markdown",
   "metadata": {},
   "source": [
    "### test on the first 1000 sample with min sup = **25**"
   ]
  },
  {
   "cell_type": "code",
   "execution_count": 159,
   "metadata": {
    "scrolled": true
   },
   "outputs": [
    {
     "name": "stdout",
     "output_type": "stream",
     "text": [
      "\n",
      "level 1 patterns:\n",
      "\n",
      "[[['World_Wide_Web'], 42], [['Achilles'], 85], [['Aluminium_chloride'], 52], [['Astronomy'], 25], [['Ocean'], 51], [['Science'], 45], [['Computer'], 50], [['American_Civil_War'], 36], [['Human'], 49], [['Fruit'], 33], [['Art'], 67], [['Vietnam'], 31], [['Agriculture'], 39], [['Christianity'], 27], [['Europe'], 75], [['Archbishop_of_Canterbury'], 59], [['Aircraft'], 77], [['France'], 32], [['Black_Sea'], 26], [['Arithmetic'], 26], [['United_States'], 157], [['Parrot'], 42], [['United_Kingdom'], 77], [['Bird'], 68], [['Rainbow'], 30], [['Music'], 27], [['Africa'], 126], [['Ant'], 35], [['Physics'], 31], [['Latin'], 25], [['Age_of_Enlightenment'], 32], [['Animal'], 54], [['Atlantic_Ocean'], 43], [['ASCII'], 39], [['World_War_II'], 50], [['Aristotle'], 30], [['14th_century'], 42], [['Mango'], 32], [['England'], 98], [['Mammal'], 25], [['Asia'], 41], [['Achilles_tendon'], 65], [['AIDS'], 62], [['English_language'], 29], [['Earth'], 55], [['Google'], 37], [['Internet'], 44], [['Religion'], 26], [['Acceleration'], 29]]\n",
      "\n",
      "level 2 patterns:\n",
      "\n",
      "[[['World_Wide_Web', 'Google'], 33], [['Achilles', 'Ocean'], 36], [['Aluminium_chloride', 'Parrot'], 42], [['Aluminium_chloride', 'Bird'], 41], [['Fruit', 'Mango'], 29], [['Art', 'Fruit'], 29], [['Art', 'Mango'], 32], [['Archbishop_of_Canterbury', 'Vietnam'], 30], [['Archbishop_of_Canterbury', 'England'], 29], [['Aircraft', 'World_Wide_Web'], 33], [['Aircraft', 'Google'], 35], [['Aircraft', 'Internet'], 28], [['United_Kingdom', 'England'], 26], [['Bird', 'Parrot'], 41], [['Africa', 'England'], 32], [['Animal', 'Bird'], 26], [['Atlantic_Ocean', 'Ocean'], 26], [['14th_century', 'Rainbow'], 27], [['Achilles_tendon', 'Achilles'], 54], [['Achilles_tendon', 'Ocean'], 41], [['Achilles_tendon', 'Atlantic_Ocean'], 25], [['Internet', 'World_Wide_Web'], 33], [['Internet', 'Google'], 29]]\n",
      "\n",
      "level 3 patterns:\n",
      "\n",
      "[[['Aluminium_chloride', 'Bird', 'Parrot'], 41], [['Art', 'Fruit', 'Mango'], 29], [['Aircraft', 'World_Wide_Web', 'Google'], 33], [['Aircraft', 'Internet', 'World_Wide_Web'], 25], [['Aircraft', 'Internet', 'Google'], 28], [['Animal', 'Bird', 'Parrot'], 20], [['Achilles_tendon', 'Achilles', 'Ocean'], 34], [['Achilles_tendon', 'Atlantic_Ocean', 'Ocean'], 24], [['Internet', 'World_Wide_Web', 'Google'], 25]]\n",
      "\n",
      "level 4 patterns:\n",
      "\n",
      "[[['Aircraft', 'Internet', 'World_Wide_Web', 'Google'], 25]]\n",
      "\n",
      "done, All Patterns extracted\n"
     ]
    }
   ],
   "source": [
    "gsp(paths[:1000],min_sup=25)"
   ]
  },
  {
   "cell_type": "markdown",
   "metadata": {},
   "source": [
    "### test on the first 2000 sample with min sup = **25**"
   ]
  },
  {
   "cell_type": "code",
   "execution_count": 162,
   "metadata": {},
   "outputs": [
    {
     "name": "stdout",
     "output_type": "stream",
     "text": [
      "\n",
      "level 1 patterns:\n",
      "\n",
      "[[['Continent'], 32], [['Aluminium_chloride'], 52], [['Science'], 61], [['Banana'], 70], [['Vietnam'], 33], [['Arithmetic'], 27], [['Elephant'], 28], [['United_Kingdom'], 96], [['California'], 25], [['Music'], 28], [['Latin'], 26], [['Bible'], 54], [['The_Holocaust'], 124], [['Animal'], 81], [['ASCII'], 39], [['China'], 30], [['Great_Britain'], 28], [['Achilles'], 85], [['Germany'], 57], [['President_of_the_United_States'], 40], [['Scotland'], 200], [['Microsoft_Windows'], 33], [['Jesus'], 39], [['Plant'], 107], [['Computer'], 81], [['Wood'], 154], [['Human'], 64], [['Fruit'], 78], [['Art'], 68], [['Periodic_table'], 46], [['Black_Sea'], 26], [['South_America'], 29], [['Tree'], 92], [['Parrot'], 42], [['Bird'], 76], [['Rainbow'], 30], [['Russia'], 29], [['Ant'], 36], [['Physics'], 57], [['Hydrogen'], 34], [['Beer'], 31], [['14th_century'], 47], [['Mango'], 32], [['Asia'], 55], [['Albert_Einstein'], 32], [['Earth'], 162], [['Internet'], 56], [['Religion'], 66], [['Life'], 29], [['World_Wide_Web'], 47], [['Penguin'], 26], [['Ancient_Greece'], 25], [['Biology'], 60], [['American_Civil_War'], 37], [['Vitamin_D'], 26], [['Agriculture'], 111], [['Christianity'], 56], [['Europe'], 125], [['United_States'], 297], [['Batman'], 603], [['Fossil_fuel'], 48], [['Africa'], 150], [['Auto_racing'], 25], [['Age_of_Enlightenment'], 32], [['Potassium'], 35], [['Water'], 37], [['Food'], 31], [['Aristotle'], 30], [['England'], 131], [['Adolf_Hitler'], 36], [['AIDS'], 66], [['Earthquake'], 79], [['English_language'], 35], [['Pluto'], 49], [['India'], 26], [['Barbados'], 28], [['North_America'], 38], [['Solar_System'], 44], [['Astronomy'], 28], [['Ocean'], 58], [['Automobile'], 88], [['AT%26T'], 28], [['Chemistry'], 179], [['Archbishop_of_Canterbury'], 59], [['Aircraft'], 77], [['France'], 55], [['Superman'], 98], [['Japan'], 42], [['Atlantic_slave_trade'], 38], [['Roman_Catholic_Church'], 28], [['Sun'], 83], [['Bamako'], 26], [['Atlantic_Ocean'], 88], [['World_War_II'], 150], [['Nature'], 37], [['Spring_Heeled_Jack'], 28], [['Mammal'], 42], [['Moon'], 37], [['Achilles_tendon'], 65], [['Crime'], 64], [['Google'], 38], [['Acceleration'], 29], [['Organism'], 29], [['Backgammon'], 30]]\n",
      "\n",
      "level 2 patterns:\n",
      "\n",
      "[[['Aluminium_chloride', 'Parrot'], 42], [['Aluminium_chloride', 'Bird'], 41], [['United_Kingdom', 'England'], 28], [['Animal', 'Bird'], 28], [['Achilles', 'Ocean'], 36], [['Scotland', 'The_Holocaust'], 50], [['Scotland', 'Wood'], 68], [['Scotland', 'Agriculture'], 49], [['Scotland', 'Europe'], 30], [['Scotland', 'Fossil_fuel'], 42], [['Scotland', 'World_War_II'], 37], [['Plant', 'Wood'], 59], [['Plant', 'Fruit'], 27], [['Plant', 'Tree'], 64], [['Computer', 'Microsoft_Windows'], 25], [['Fruit', 'Banana'], 35], [['Fruit', 'Mango'], 29], [['Art', 'Fruit'], 29], [['Art', 'Mango'], 32], [['Tree', 'Wood'], 79], [['Bird', 'Parrot'], 41], [['14th_century', 'Rainbow'], 27], [['Earth', 'Plant'], 33], [['Earth', 'Wood'], 29], [['Earth', 'Tree'], 28], [['Internet', 'World_Wide_Web'], 38], [['Internet', 'Google'], 30], [['World_Wide_Web', 'Google'], 34], [['Agriculture', 'Wood'], 43], [['Agriculture', 'Fossil_fuel'], 40], [['United_States', 'President_of_the_United_States'], 30], [['United_States', 'Computer'], 26], [['Batman', 'Banana'], 69], [['Batman', 'Bible'], 44], [['Batman', 'The_Holocaust'], 119], [['Batman', 'Germany'], 26], [['Batman', 'Scotland'], 197], [['Batman', 'Plant'], 77], [['Batman', 'Wood'], 148], [['Batman', 'Fruit'], 42], [['Batman', 'Tree'], 78], [['Batman', 'Earth'], 63], [['Batman', 'Religion'], 37], [['Batman', 'Biology'], 34], [['Batman', 'Vitamin_D'], 25], [['Batman', 'Agriculture'], 60], [['Batman', 'Christianity'], 27], [['Batman', 'Europe'], 33], [['Batman', 'United_States'], 28], [['Batman', 'Fossil_fuel'], 44], [['Batman', 'Potassium'], 29], [['Batman', 'Earthquake'], 76], [['Batman', 'Chemistry'], 157], [['Batman', 'Superman'], 95], [['Batman', 'Japan'], 26], [['Batman', 'World_War_II'], 87], [['Batman', 'Spring_Heeled_Jack'], 28], [['Batman', 'Crime'], 64], [['Fossil_fuel', 'Wood'], 44], [['Africa', 'England'], 32], [['Potassium', 'Banana'], 27], [['Earthquake', 'Wood'], 26], [['Earthquake', 'Earth'], 30], [['Solar_System', 'Pluto'], 26], [['Automobile', 'United_States'], 42], [['Automobile', 'Pluto'], 47], [['Automobile', 'Solar_System'], 25], [['Chemistry', 'Banana'], 43], [['Chemistry', 'Wood'], 35], [['Chemistry', 'Periodic_table'], 30], [['Chemistry', 'Biology'], 36], [['Chemistry', 'Potassium'], 29], [['Archbishop_of_Canterbury', 'Vietnam'], 30], [['Archbishop_of_Canterbury', 'England'], 29], [['Aircraft', 'Internet'], 28], [['Aircraft', 'World_Wide_Web'], 33], [['Aircraft', 'Google'], 35], [['Atlantic_Ocean', 'Ocean'], 28], [['World_War_II', 'The_Holocaust'], 79], [['Achilles_tendon', 'Achilles'], 54], [['Achilles_tendon', 'Ocean'], 41], [['Achilles_tendon', 'Atlantic_Ocean'], 25], [['Crime', 'The_Holocaust'], 37]]\n",
      "\n",
      "level 3 patterns:\n",
      "\n",
      "[[['Aluminium_chloride', 'Bird', 'Parrot'], 41], [['Animal', 'Bird', 'Parrot'], 20], [['Scotland', 'Agriculture', 'Wood'], 41], [['Scotland', 'Agriculture', 'Fossil_fuel'], 38], [['Scotland', 'Fossil_fuel', 'Wood'], 42], [['Scotland', 'World_War_II', 'The_Holocaust'], 33], [['Plant', 'Fruit', 'Banana'], 12], [['Plant', 'Fruit', 'Mango'], 12], [['Plant', 'Tree', 'Wood'], 53], [['Art', 'Fruit', 'Mango'], 29], [['Earth', 'Plant', 'Wood'], 28], [['Earth', 'Plant', 'Fruit'], 2], [['Earth', 'Plant', 'Tree'], 26], [['Earth', 'Tree', 'Wood'], 26], [['Internet', 'World_Wide_Web', 'Google'], 26], [['Agriculture', 'Fossil_fuel', 'Wood'], 39], [['United_States', 'Computer', 'Microsoft_Windows'], 18], [['Batman', 'Scotland', 'The_Holocaust'], 50], [['Batman', 'Scotland', 'Wood'], 68], [['Batman', 'Scotland', 'Agriculture'], 49], [['Batman', 'Scotland', 'Europe'], 30], [['Batman', 'Scotland', 'Fossil_fuel'], 42], [['Batman', 'Scotland', 'World_War_II'], 37], [['Batman', 'Plant', 'Wood'], 55], [['Batman', 'Plant', 'Fruit'], 15], [['Batman', 'Plant', 'Tree'], 53], [['Batman', 'Fruit', 'Banana'], 35], [['Batman', 'Tree', 'Wood'], 74], [['Batman', 'Earth', 'Plant'], 29], [['Batman', 'Earth', 'Wood'], 27], [['Batman', 'Earth', 'Tree'], 24], [['Batman', 'Agriculture', 'Wood'], 43], [['Batman', 'Agriculture', 'Fossil_fuel'], 39], [['Batman', 'United_States', 'President_of_the_United_States'], 9], [['Batman', 'Fossil_fuel', 'Wood'], 44], [['Batman', 'Potassium', 'Banana'], 27], [['Batman', 'Earthquake', 'Wood'], 26], [['Batman', 'Earthquake', 'Earth'], 29], [['Batman', 'Chemistry', 'Banana'], 43], [['Batman', 'Chemistry', 'Wood'], 35], [['Batman', 'Chemistry', 'Periodic_table'], 22], [['Batman', 'Chemistry', 'Biology'], 34], [['Batman', 'Chemistry', 'Potassium'], 26], [['Batman', 'World_War_II', 'The_Holocaust'], 79], [['Batman', 'Crime', 'The_Holocaust'], 37], [['Earthquake', 'Earth', 'Plant'], 14], [['Earthquake', 'Earth', 'Wood'], 15], [['Earthquake', 'Earth', 'Tree'], 13], [['Automobile', 'United_States', 'Computer'], 15], [['Automobile', 'Solar_System', 'Pluto'], 25], [['Chemistry', 'Potassium', 'Banana'], 25], [['Aircraft', 'Internet', 'World_Wide_Web'], 25], [['Aircraft', 'Internet', 'Google'], 28], [['Aircraft', 'World_Wide_Web', 'Google'], 33], [['Achilles_tendon', 'Achilles', 'Ocean'], 34], [['Achilles_tendon', 'Atlantic_Ocean', 'Ocean'], 24]]\n",
      "\n",
      "level 4 patterns:\n",
      "\n",
      "[[['Scotland', 'Agriculture', 'Fossil_fuel', 'Wood'], 38], [['Earth', 'Plant', 'Fruit', 'Banana'], 2], [['Earth', 'Plant', 'Tree', 'Wood'], 25], [['Batman', 'Scotland', 'Agriculture', 'Wood'], 41], [['Batman', 'Scotland', 'Agriculture', 'Fossil_fuel'], 38], [['Batman', 'Scotland', 'Fossil_fuel', 'Wood'], 42], [['Batman', 'Scotland', 'World_War_II', 'The_Holocaust'], 33], [['Batman', 'Plant', 'Fruit', 'Banana'], 12], [['Batman', 'Plant', 'Tree', 'Wood'], 49], [['Batman', 'Earth', 'Plant', 'Wood'], 26], [['Batman', 'Earth', 'Plant', 'Fruit'], 2], [['Batman', 'Earth', 'Plant', 'Tree'], 23], [['Batman', 'Earth', 'Tree', 'Wood'], 24], [['Batman', 'Agriculture', 'Fossil_fuel', 'Wood'], 39], [['Batman', 'Earthquake', 'Earth', 'Plant'], 14], [['Batman', 'Earthquake', 'Earth', 'Wood'], 15], [['Batman', 'Earthquake', 'Earth', 'Tree'], 13], [['Batman', 'Chemistry', 'Potassium', 'Banana'], 25], [['Earthquake', 'Earth', 'Plant', 'Wood'], 14], [['Earthquake', 'Earth', 'Plant', 'Tree'], 12], [['Earthquake', 'Earth', 'Tree', 'Wood'], 13], [['Automobile', 'United_States', 'Computer', 'Microsoft_Windows'], 15], [['Aircraft', 'Internet', 'World_Wide_Web', 'Google'], 25]]\n",
      "\n",
      "level 5 patterns:\n",
      "\n",
      "[[['Batman', 'Scotland', 'Agriculture', 'Fossil_fuel', 'Wood'], 38], [['Batman', 'Earth', 'Plant', 'Fruit', 'Banana'], 2], [['Batman', 'Earth', 'Plant', 'Tree', 'Wood'], 23], [['Batman', 'Earthquake', 'Earth', 'Plant', 'Wood'], 14], [['Batman', 'Earthquake', 'Earth', 'Plant', 'Tree'], 12], [['Batman', 'Earthquake', 'Earth', 'Tree', 'Wood'], 13], [['Earthquake', 'Earth', 'Plant', 'Tree', 'Wood'], 12]]\n",
      "\n",
      "level 6 patterns:\n",
      "\n",
      "[[['Batman', 'Earthquake', 'Earth', 'Plant', 'Tree', 'Wood'], 12]]\n",
      "\n",
      "done, All Patterns extracted\n"
     ]
    }
   ],
   "source": [
    "gsp(paths[:2000],min_sup=25)"
   ]
  },
  {
   "cell_type": "markdown",
   "metadata": {},
   "source": [
    "### test on the all sample with min sup = **50**"
   ]
  },
  {
   "cell_type": "markdown",
   "metadata": {},
   "source": [
    "## Caution !!\n",
    "### don't run the next line it will take for ever :|"
   ]
  },
  {
   "cell_type": "code",
   "execution_count": 161,
   "metadata": {},
   "outputs": [],
   "source": [
    "gsp(paths,min_sup=50)"
   ]
  }
 ],
 "metadata": {
  "kernelspec": {
   "display_name": "Python [conda env:root] *",
   "language": "python",
   "name": "conda-root-py"
  },
  "language_info": {
   "codemirror_mode": {
    "name": "ipython",
    "version": 3
   },
   "file_extension": ".py",
   "mimetype": "text/x-python",
   "name": "python",
   "nbconvert_exporter": "python",
   "pygments_lexer": "ipython3",
   "version": "3.7.6"
  }
 },
 "nbformat": 4,
 "nbformat_minor": 4
}

{
 "cells": [
  {
   "cell_type": "code",
   "execution_count": 256,
   "metadata": {},
   "outputs": [],
   "source": [
    "import pandas as pd\n",
    "import numpy as  np"
   ]
  },
  {
   "cell_type": "code",
   "execution_count": 257,
   "metadata": {},
   "outputs": [],
   "source": [
    "df = pd.read_table('paths_finished.tsv',sep='\\t',names=[\"hashedIpAddress\",\"timestamp\",\"durationInSec\",\"path\",\"rating\"])"
   ]
  },
  {
   "cell_type": "code",
   "execution_count": 258,
   "metadata": {},
   "outputs": [],
   "source": [
    "df_paths = df.path"
   ]
  },
  {
   "cell_type": "code",
   "execution_count": 259,
   "metadata": {},
   "outputs": [
    {
     "data": {
      "text/plain": [
       "(51333,)"
      ]
     },
     "execution_count": 259,
     "metadata": {},
     "output_type": "execute_result"
    }
   ],
   "source": [
    "df_paths.shape"
   ]
  },
  {
   "cell_type": "code",
   "execution_count": 260,
   "metadata": {},
   "outputs": [],
   "source": [
    "df_paths.dropna(axis=0,inplace=True)"
   ]
  },
  {
   "cell_type": "code",
   "execution_count": 261,
   "metadata": {},
   "outputs": [
    {
     "data": {
      "text/plain": [
       "(51318,)"
      ]
     },
     "execution_count": 261,
     "metadata": {},
     "output_type": "execute_result"
    }
   ],
   "source": [
    "df_paths.shape"
   ]
  },
  {
   "cell_type": "code",
   "execution_count": 262,
   "metadata": {},
   "outputs": [
    {
     "data": {
      "text/plain": [
       "15    14th_century;15th_century;16th_century;Pacific...\n",
       "16    14th_century;Europe;Africa;Atlantic_slave_trad...\n",
       "17    14th_century;Niger;Nigeria;British_Empire;Slav...\n",
       "18       14th_century;Renaissance;Ancient_Greece;Greece\n",
       "19    14th_century;Italy;Roman_Catholic_Church;HIV;R...\n",
       "Name: path, dtype: object"
      ]
     },
     "execution_count": 262,
     "metadata": {},
     "output_type": "execute_result"
    }
   ],
   "source": [
    "df_paths.head()"
   ]
  },
  {
   "cell_type": "code",
   "execution_count": 263,
   "metadata": {},
   "outputs": [
    {
     "data": {
      "text/plain": [
       "[['14th_century'],\n",
       " ['Renaissance'],\n",
       " ['Leonardo_da_Vinci'],\n",
       " ['Water'],\n",
       " ['Rain'],\n",
       " ['Cloud'],\n",
       " ['<'],\n",
       " ['<'],\n",
       " ['Rainbow']]"
      ]
     },
     "execution_count": 263,
     "metadata": {},
     "output_type": "execute_result"
    }
   ],
   "source": [
    "paths = list(df_paths)\n",
    "paths = [[[e] for e in p.split(';')]  for p  in paths]\n",
    "paths[14]"
   ]
  },
  {
   "cell_type": "code",
   "execution_count": 264,
   "metadata": {},
   "outputs": [
    {
     "data": {
      "text/plain": [
       "[['14th_century'],\n",
       " ['Renaissance'],\n",
       " ['Leonardo_da_Vinci'],\n",
       " ['Water'],\n",
       " ['Rain'],\n",
       " ['Cloud'],\n",
       " ['Rainbow']]"
      ]
     },
     "execution_count": 264,
     "metadata": {},
     "output_type": "execute_result"
    }
   ],
   "source": [
    "for path in paths:\n",
    "    while [\"<\"] in path:\n",
    "        path.remove([\"<\"])\n",
    "    \n",
    "paths[14]"
   ]
  },
  {
   "cell_type": "code",
   "execution_count": 265,
   "metadata": {},
   "outputs": [
    {
     "data": {
      "text/plain": [
       "51318"
      ]
     },
     "execution_count": 265,
     "metadata": {},
     "output_type": "execute_result"
    }
   ],
   "source": [
    "len(paths)"
   ]
  },
  {
   "cell_type": "code",
   "execution_count": 266,
   "metadata": {},
   "outputs": [],
   "source": [
    "dumy_data=[\n",
    "[[\"a\"], [\"b\"], [\"f\", \"g\"], [\"c\"], [\"d\"]],\n",
    "[[\"b\"], [\"g\"], [\"d\"]],\n",
    "[[\"b\"], [\"f\"], [\"g\"], [\"a\",\"b\"]],\n",
    "[[\"f\"], [\"a\",\"b\"], [\"c\"], [\"d\"]],\n",
    "[[\"a\"], [\"b\",\"c\"], [\"g\"], [\"f\"],[\"d\",\"e\"]]\n",
    "]"
   ]
  },
  {
   "cell_type": "code",
   "execution_count": 267,
   "metadata": {},
   "outputs": [],
   "source": [
    "dumy_data_2=[\n",
    "[[\"a\"], [\"a\", \"b\", \"c\"], [\"a\", \"c\"], [\"c\"]],\n",
    "[[\"a\"], [\"c\"], [\"b\", \"c\"]],\n",
    "[[\"a\", \"b\"], [\"d\"], [\"c\"], [\"b\"], [\"c\"]],\n",
    "[[\"a\"], [\"c\"], [\"b\"], [\"c\"]]\n",
    "]"
   ]
  },
  {
   "cell_type": "code",
   "execution_count": 525,
   "metadata": {},
   "outputs": [],
   "source": [
    "def get_l1_candidate(data):\n",
    "    return set([d for transaction in data for e in transaction for d in e])\n"
   ]
  },
  {
   "cell_type": "code",
   "execution_count": 526,
   "metadata": {},
   "outputs": [
    {
     "name": "stdout",
     "output_type": "stream",
     "text": [
      "{'a', 'g', 'd', 'b', 'c', 'f', 'e'}\n"
     ]
    }
   ],
   "source": [
    "l1_candidate = get_l1_candidate(dumy_data)\n",
    "print(l1_candidate)"
   ]
  },
  {
   "cell_type": "code",
   "execution_count": 527,
   "metadata": {},
   "outputs": [],
   "source": [
    "def get_l1_patterns(data,l1_elements,min_sup=2):\n",
    "    l1_patterns = [[e,0] for e in l1_elements]\n",
    "    is_located_in_current_sequence=False\n",
    "    for pat in l1_patterns:\n",
    "        for sequence in data:\n",
    "            for trans in sequence:\n",
    "                for element in trans:\n",
    "                    if element == pat[0]:\n",
    "                        pat[1]=pat[1]+1\n",
    "                        is_located_in_current_sequence =True\n",
    "                        break\n",
    "                if is_located_in_current_sequence:\n",
    "                    is_located_in_current_sequence=False\n",
    "                    break\n",
    "                    \n",
    "    l1_patterns = [p for p in l1_patterns if p[1]>=min_sup]\n",
    "    return l1_patterns"
   ]
  },
  {
   "cell_type": "code",
   "execution_count": 528,
   "metadata": {},
   "outputs": [
    {
     "name": "stdout",
     "output_type": "stream",
     "text": [
      "[['a', 4], ['g', 4], ['d', 4], ['b', 5], ['c', 3], ['f', 4]]\n"
     ]
    }
   ],
   "source": [
    "l1_patterns =get_l1_patterns(dumy_data,l1_elements,min_sup=2)\n",
    "print(l1_patterns)"
   ]
  },
  {
   "cell_type": "code",
   "execution_count": 530,
   "metadata": {},
   "outputs": [
    {
     "name": "stdout",
     "output_type": "stream",
     "text": [
      "[['a', 4], ['g', 4], ['d', 4], ['b', 5], ['c', 3], ['f', 4]]\n"
     ]
    }
   ],
   "source": [
    "l1_patterns =calculate_support(dumy_data,l1_candidate,min_sup=2)\n",
    "print(l1_patterns)"
   ]
  },
  {
   "cell_type": "code",
   "execution_count": 270,
   "metadata": {},
   "outputs": [],
   "source": [
    "def generat_l2_candidate_patterns(l1_patterns):\n",
    "    l2_candidate=[]\n",
    "    for p1 in l1_patterns:\n",
    "        for p2 in l1_patterns:\n",
    "            l2_candidate.append(p1[0]+p2[0])\n",
    "    return l2_candidate"
   ]
  },
  {
   "cell_type": "code",
   "execution_count": 500,
   "metadata": {
    "scrolled": true
   },
   "outputs": [
    {
     "name": "stdout",
     "output_type": "stream",
     "text": [
      "[['a', 4], ['g', 4], ['d', 4], ['b', 5], ['c', 3], ['f', 4]]\n",
      "['aa', 'ag', 'ad', 'ab', 'ac', 'af', 'ga', 'gg', 'gd', 'gb', 'gc', 'gf', 'da', 'dg', 'dd', 'db', 'dc', 'df', 'ba', 'bg', 'bd', 'bb', 'bc', 'bf', 'ca', 'cg', 'cd', 'cb', 'cc', 'cf', 'fa', 'fg', 'fd', 'fb', 'fc', 'ff']\n",
      "36\n"
     ]
    }
   ],
   "source": [
    "print(l1_patterns)\n",
    "l2_candidate =generat_l2_candidate_patterns(l1_patterns)\n",
    "print (l2_candidate)\n",
    "print(len(l2_candidate))"
   ]
  },
  {
   "cell_type": "code",
   "execution_count": 501,
   "metadata": {
    "scrolled": true
   },
   "outputs": [
    {
     "name": "stdout",
     "output_type": "stream",
     "text": [
      "[['a', 4], ['g', 4], ['d', 4], ['b', 5], ['c', 3], ['f', 4]]\n",
      "['agd', 'abg', 'abd', 'abc', 'abf', 'acd', 'afd', 'afb', 'afc', 'bgd', 'bcd', 'bfd', 'bfc', 'fad', 'fab', 'fac', 'fbd', 'fbc', 'fcd']\n",
      "19\n"
     ]
    }
   ],
   "source": [
    "print(l1_patterns)\n",
    "l2_candidate =get_candidates(l1_patterns)\n",
    "print (l2_candidate)\n",
    "print(len(l2_candidate))"
   ]
  },
  {
   "cell_type": "code",
   "execution_count": null,
   "metadata": {},
   "outputs": [],
   "source": []
  },
  {
   "cell_type": "code",
   "execution_count": 477,
   "metadata": {},
   "outputs": [],
   "source": [
    "def get_l2_patterns(data,l2_candidate,min_sup=2):\n",
    "    l2_patterns = [[e,0] for e in l2_candidate]\n",
    "    is_located_in_current_sequence=False\n",
    "    for pat in l2_patterns:\n",
    "        for sequence in data:\n",
    "            index =0\n",
    "            for trans in sequence:\n",
    "                for element in trans:\n",
    "                    if element == pat[0][index]:\n",
    "                        if (index+1) == len(pat[0]):\n",
    "                            pat[1]=pat[1]+1\n",
    "                            index =0\n",
    "                            is_located_in_current_sequence =True\n",
    "                            break\n",
    "                        else:\n",
    "                            index=index+1\n",
    "                            break\n",
    "                if is_located_in_current_sequence:\n",
    "                    is_located_in_current_sequence=False\n",
    "                    break\n",
    "                    \n",
    "    l2_patterns = [p for p in l2_patterns if p[1]>=min_sup]\n",
    "    return l2_patterns"
   ]
  },
  {
   "cell_type": "code",
   "execution_count": 491,
   "metadata": {
    "scrolled": true
   },
   "outputs": [
    {
     "name": "stdout",
     "output_type": "stream",
     "text": [
      "[['ag', 2], ['ad', 3], ['ab', 2], ['ac', 3], ['af', 2], ['gd', 3], ['bg', 4], ['bd', 4], ['bc', 2], ['bf', 3], ['cd', 3], ['fa', 2], ['fd', 3], ['fb', 2], ['fc', 2]]\n",
      "36\n"
     ]
    }
   ],
   "source": [
    "l2_patterns =get_l2_patterns(dumy_data,l2_candidate,min_sup=2)\n",
    "print(l2_patterns)\n",
    "print(len(l2_candidate))"
   ]
  },
  {
   "cell_type": "code",
   "execution_count": 492,
   "metadata": {
    "scrolled": true
   },
   "outputs": [
    {
     "name": "stdout",
     "output_type": "stream",
     "text": [
      "[['ag', 2], ['ad', 3], ['ab', 2], ['ac', 3], ['af', 2], ['gd', 3], ['bg', 4], ['bd', 4], ['bc', 2], ['bf', 3], ['cd', 3], ['fa', 2], ['fd', 3], ['fb', 2], ['fc', 2]]\n",
      "36\n"
     ]
    }
   ],
   "source": [
    "l2_patterns =calculate_support(dumy_data,l2_candidate,min_sup=2)\n",
    "print(l2_patterns)\n",
    "print(len(l2_candidate))"
   ]
  },
  {
   "cell_type": "code",
   "execution_count": 493,
   "metadata": {},
   "outputs": [],
   "source": [
    "def delete_at(str,idx):\n",
    "    return str[:idx]+str[idx+1:]\n",
    "\n",
    "\n",
    "def is_to_prune(l2_patterns,l3_candidate):\n",
    "    for idx in range(1,len(l3_candidate)-1):\n",
    "        sub_pattern = delete_at(l3_candidate,idx)\n",
    "        is_sub_pattern_exist =False\n",
    "        for p in l2_patterns:\n",
    "            if sub_pattern == p[0]:\n",
    "                is_sub_pattern_exist = True\n",
    "                break\n",
    "        if not is_sub_pattern_exist:\n",
    "            return False\n",
    "    return True\n",
    "            \n",
    "\n",
    "def get_candidates(patterns):\n",
    "    candidate = []\n",
    "    for pat1 in patterns:\n",
    "        for pat2 in patterns:\n",
    "             if pat1[0][1:]==pat2[0][:-1]:\n",
    "                candidate.append(pat1[0][0]+pat2[0])\n",
    "        \n",
    "    candidate=[c for c in l3_candidate if is_to_prune(l2_patterns,c) ]\n",
    "    return l3_candidate"
   ]
  },
  {
   "cell_type": "code",
   "execution_count": 494,
   "metadata": {},
   "outputs": [],
   "source": [
    "def is_exist_in_transaction(trans,element):\n",
    "    for t in trans:\n",
    "        if t == element:\n",
    "            return True\n",
    "    return False\n",
    "\n",
    "def calculate_support(data,l3_candidate,min_sup=2):\n",
    "    l3_patterns = [[e,0] for e in l3_candidate]\n",
    "    \n",
    "    for pat in l3_patterns:\n",
    "        for sequence in data:\n",
    "            index =0\n",
    "            for trans in sequence:\n",
    "                if is_exist_in_transaction(trans,pat[0][index]):\n",
    "                    index = index+1\n",
    "                    if (index) == len(pat[0]):\n",
    "                        pat[1]=pat[1]+1\n",
    "                        break\n",
    "                    \n",
    "          \n",
    "        \n",
    "    l3_patterns = [p for p in l3_patterns if p[1]>=min_sup]\n",
    "    return l3_patterns"
   ]
  },
  {
   "cell_type": "code",
   "execution_count": 487,
   "metadata": {},
   "outputs": [
    {
     "name": "stdout",
     "output_type": "stream",
     "text": [
      "[['ag', 2], ['ad', 3], ['ab', 2], ['ac', 3], ['af', 2], ['gd', 3], ['bg', 4], ['bd', 4], ['bc', 2], ['bf', 3], ['cd', 3], ['fa', 2], ['fd', 3], ['fb', 2], ['fc', 2]]\n",
      "['agd', 'abg', 'abd', 'abc', 'abf', 'acd', 'afd', 'afb', 'afc', 'bgd', 'bcd', 'bfd', 'bfc', 'fad', 'fab', 'fac', 'fbd', 'fbc', 'fcd']\n",
      "19\n"
     ]
    }
   ],
   "source": [
    "print(l2_patterns)\n",
    "l3_candidate =get_l3_candidate(l2_patterns)\n",
    "print(l3_candidate)\n",
    "print(len(l3_candidate))"
   ]
  },
  {
   "cell_type": "code",
   "execution_count": 488,
   "metadata": {},
   "outputs": [
    {
     "name": "stdout",
     "output_type": "stream",
     "text": [
      "[['agd', 2], ['abg', 2], ['abd', 2], ['abf', 2], ['acd', 3], ['afd', 2], ['bgd', 3], ['bcd', 2], ['bfd', 2], ['fcd', 2]]\n",
      "['abgd', 'abfd']\n",
      "2\n"
     ]
    }
   ],
   "source": [
    "print(l3_patterns)\n",
    "l4_candidate =get_l3_candidate(l3_patterns)\n",
    "print(l4_candidate)\n",
    "print(len(l4_candidate))"
   ]
  },
  {
   "cell_type": "code",
   "execution_count": 486,
   "metadata": {},
   "outputs": [
    {
     "name": "stdout",
     "output_type": "stream",
     "text": [
      "[['agd', 2], ['abg', 2], ['abd', 2], ['abf', 2], ['acd', 3], ['afd', 2], ['bgd', 3], ['bcd', 2], ['bfd', 2], ['fcd', 2]]\n"
     ]
    }
   ],
   "source": [
    "l3_patterns =get_l3_patterns(dumy_data,l3_candidate,min_sup=2)\n",
    "print(l3_patterns)"
   ]
  },
  {
   "cell_type": "code",
   "execution_count": null,
   "metadata": {},
   "outputs": [],
   "source": [
    "def gsp (data):\n",
    "    "
   ]
  }
 ],
 "metadata": {
  "kernelspec": {
   "display_name": "Python [conda env:root] *",
   "language": "python",
   "name": "conda-root-py"
  },
  "language_info": {
   "codemirror_mode": {
    "name": "ipython",
    "version": 3
   },
   "file_extension": ".py",
   "mimetype": "text/x-python",
   "name": "python",
   "nbconvert_exporter": "python",
   "pygments_lexer": "ipython3",
   "version": "3.7.6"
  }
 },
 "nbformat": 4,
 "nbformat_minor": 4
}
